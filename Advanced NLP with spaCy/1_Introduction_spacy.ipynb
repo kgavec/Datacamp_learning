{
 "cells": [
  {
   "cell_type": "markdown",
   "metadata": {},
   "source": [
    "# <center> Introduction to spaCy"
   ]
  },
  {
   "cell_type": "markdown",
   "metadata": {},
   "source": [
    "#### The nlp object\n",
    "- At the center of spaCy is the object containing the processing pipeline.\n",
    "    - variable usually call nlp\n",
    "- includes languages-specific rules for tokenization etc.\n",
    "- Supports a variety of languages that are available in spacy dot lang\n",
    "\n",
    "#### The Doc object\n",
    "- When processing a text with the <b> nlp object </b>, spaCy creates a Doc object (short for \"document\")\n",
    "- Lets you acces information about the text in a structured way, and no information is lost\n",
    "- It behaves like a normal Python sequence\n",
    "\n",
    "#### The Token object\n",
    "\n",
    "<img src=\"datasets/imgs/Doc_token.png\" width=\"400\" height=\"400\">    \n",
    "\n",
    "- Represent the tokens in a document (example: word, punctiation character)\n",
    "- To get a token at a specific position, use index into the doc \n",
    "- It also provide varios attributes that let you access more information about the tokens.\n",
    "    - Example: the dot text attribute returns the verbatim token text.\n",
    "\n",
    "#### The Span object\n",
    "<img src=\"https://encrypted-tbn0.gstatic.com/images?q=tbn%3AANd9GcQtB4WQhIJU6AvtF6LjoFrH6VRM9Se2lOmGvX4DcXb7kbX1ENSn&usqp=CAU\" width=\"400\" height=\"400\">    \n",
    "\n",
    "- Is a slice of the document consisting of one or more tokens\n",
    "    - Its only a view of the Doc and doesnt contain any data itself\n",
    "- Using Python's slice notation is how can a Span can be created\n",
    "\n",
    "#### Lexical attributes\n",
    "- They refer to the entry in the vocabulary and don't depend on the token's context.\n",
    "- Examples of it:"
   ]
  },
  {
   "cell_type": "code",
   "execution_count": 2,
   "metadata": {},
   "outputs": [
    {
     "name": "stdout",
     "output_type": "stream",
     "text": [
      "Index:   [0, 1, 2, 3, 4]\n",
      "Text:   ['It', 'cost', '$', '5', '.']\n",
      "is_alpha:   [True, True, False, False, False]\n",
      "is_punct:   [False, False, False, False, True]\n",
      "like_num:   [False, False, False, True, False]\n"
     ]
    }
   ],
   "source": [
    "# Import \n",
    "from spacy.lang.en import English\n",
    "nlp=English()\n",
    "doc=nlp(\"It cost $5.\")\n",
    "\n",
    "print('Index:  ', [token.i for token in doc])\n",
    "print('Text:  ', [token.text for token in doc])\n",
    "##returns boolean values\n",
    "print('is_alpha:  ', [token.is_alpha for token in doc])\n",
    "print('is_punct:  ', [token.is_punct for token in doc])\n",
    "print('like_num:  ', [token.like_num for token in doc])"
   ]
  },
  {
   "cell_type": "markdown",
   "metadata": {},
   "source": [
    "#### Some introductorial example:\n",
    "- Trying some of the 45+ available languages"
   ]
  },
  {
   "cell_type": "code",
   "execution_count": 3,
   "metadata": {},
   "outputs": [
    {
     "name": "stdout",
     "output_type": "stream",
     "text": [
      "This is a sentence.\n"
     ]
    }
   ],
   "source": [
    "# Import the English language class\n",
    "from spacy.lang.en import English\n",
    "\n",
    "# Create the nlp object\n",
    "nlp = English()\n",
    "\n",
    "# Process a text\n",
    "doc = nlp(\"This is a sentence.\")\n",
    "\n",
    "# Print the document text\n",
    "print(doc.text)"
   ]
  },
  {
   "cell_type": "code",
   "execution_count": 4,
   "metadata": {},
   "outputs": [
    {
     "name": "stdout",
     "output_type": "stream",
     "text": [
      "Liebe Grüße!\n"
     ]
    }
   ],
   "source": [
    "# Import the German language class\n",
    "from spacy.lang.de import German\n",
    "\n",
    "# Create the nlp object\n",
    "nlp = German()\n",
    "\n",
    "# Process a text (this is German for: \"Kind regards!\")\n",
    "doc = nlp(\"Liebe Grüße!\")\n",
    "\n",
    "# Print the document text\n",
    "print(doc.text)"
   ]
  },
  {
   "cell_type": "code",
   "execution_count": 5,
   "metadata": {},
   "outputs": [
    {
     "name": "stdout",
     "output_type": "stream",
     "text": [
      "¿Cómo estás?\n"
     ]
    }
   ],
   "source": [
    "# Import the Spanish language class\n",
    "from spacy.lang.es import Spanish\n",
    "\n",
    "# Create the nlp object\n",
    "nlp = Spanish()\n",
    "\n",
    "# Process a text (this is Spanish for: \"How are you?\")\n",
    "doc = nlp(\"¿Cómo estás?\")\n",
    "\n",
    "# Print the document text\n",
    "print(doc.text)"
   ]
  },
  {
   "cell_type": "markdown",
   "metadata": {},
   "source": [
    "#### Documents, spans and tokens\n",
    "When you call nlp on a string, spaCy first tokenizes the text and creates a document object"
   ]
  },
  {
   "cell_type": "code",
   "execution_count": 6,
   "metadata": {},
   "outputs": [
    {
     "name": "stdout",
     "output_type": "stream",
     "text": [
      "I\n"
     ]
    }
   ],
   "source": [
    "# Import the English language class and create the nlp object\n",
    "from spacy.lang.en import English\n",
    "nlp = English()\n",
    "\n",
    "# Process the text and instantiate a Doc object in the variable doc\n",
    "doc = nlp(\"I like tree kangaroos and narwhals.\")\n",
    "\n",
    "# Select the first token\n",
    "first_token = doc[0]\n",
    "\n",
    "# Print the first token's text\n",
    "print(first_token.text)"
   ]
  },
  {
   "cell_type": "code",
   "execution_count": 7,
   "metadata": {},
   "outputs": [
    {
     "name": "stdout",
     "output_type": "stream",
     "text": [
      "tree kangaroos\n",
      "tree kangaroos and narwhals\n"
     ]
    }
   ],
   "source": [
    "##SPANS\n",
    "\n",
    "# A slice of the Doc for \"tree kangaroos\"\n",
    "tree_kangaroos = doc[2:4]\n",
    "print(tree_kangaroos.text)\n",
    "\n",
    "# A slice of the Doc for \"tree kangaroos and narwhals\" (without the \".\")\n",
    "tree_kangaroos_and_narwhals = doc[2:6]\n",
    "print(tree_kangaroos_and_narwhals.text)"
   ]
  },
  {
   "cell_type": "markdown",
   "metadata": {},
   "source": [
    "#### Lexical attributes\n",
    "Example to get the % numbers"
   ]
  },
  {
   "cell_type": "code",
   "execution_count": 8,
   "metadata": {},
   "outputs": [
    {
     "name": "stdout",
     "output_type": "stream",
     "text": [
      "Percentage found: 60\n",
      "Percentage found: 4\n"
     ]
    }
   ],
   "source": [
    "# Process the text\n",
    "doc = nlp(\"In 1990, more than 60% of people in East Asia were in extreme poverty. Now less than 4% are.\")\n",
    "\n",
    "# Iterate over the tokens in the doc\n",
    "for token in doc:\n",
    "    # Check if the token resembles a number\n",
    "    if token.like_num:\n",
    "        # Get the next token in the document\n",
    "        next_token = doc[token.i + 1]\n",
    "        # Check if the next token's text equals '%'\n",
    "        if next_token.text == '%':\n",
    "          print('Percentage found:', token.text)"
   ]
  },
  {
   "cell_type": "markdown",
   "metadata": {},
   "source": [
    "# <center> spaCy's Statistical Models\n",
    "    \n",
    "#### What are statistical models?\n",
    "- Enable spaCy to predict linguistic attributes in <b> context </b>\n",
    "    - Part-of-speech tags\n",
    "    - Syntactic dependencies\n",
    "    - Named entities\n",
    "- This models are trained on large datasets of labeled example texts.\n",
    "- Can be updated with more examples to fine-tune predictions.\n",
    "    \n",
    "\n",
    " \n",
    "#### Model Packages\n",
    "-spaCy provides a number of pre-trained model packages for download\n",
    "- example: \"en_core_web_sm\" package\n",
    "    - Is a small model that supports all core capabilites and is trained on the web text\n",
    "    - The package provides: \n",
    "        - The binary weights \n",
    "        - Vocabulary\n",
    "        - Meta information (language, pipeline)\n",
    "        -All this enable spaCy to make predictions.\n",
    "\n",
    "#### Predicting Part-of-speech Tags\n",
    "- This means predict the word types in context.\n",
    "- The \"pos underscore\" attribute returns the predicted word type label. Notation:\n",
    "> token.pos_\n",
    "    \n",
    "TIP: In spaCy, attributes that return strings usually end with and underscore - attributes without the underscore return an ID.   \n",
    "    \n",
    "#### Predicting Syntactic Dependencies\n",
    "- This means predict how the words are related\n",
    "    - example: whether a word is the subject of the sentence or an object.\n",
    "- The \"dep underscore\" attribute returns the predicted dependency label. Notation:\n",
    "    > token.dep_\n",
    "- The \"head\" attribute returns the syntactic head token (parent token whis word is attached to).Notation:\n",
    "    > token.head.text\n",
    "- To describe syntactic dependencies, spaCy uses a standardized label scheme.    \n",
    "    \n",
    "    \n",
    "<img src=\"datasets/imgs/Syntactic_depen.png\" width=\"400\" height=\"400\">    \n",
    "    \n",
    "#### Predicting Named Entities\n",
    "- Are \"real world objects\" that are assigned a name\n",
    "    - example: a person, an organization or a country.\n",
    "    \n",
    "<img src=\"https://encrypted-tbn0.gstatic.com/images?q=tbn%3AANd9GcSGkC4_OVOWUkqbYsB9yFsJlLCRujhnB6AFCTZiJag08AbfkFDw&usqp=CAU\" width=\"400\" height=\"400\">    \n",
    "    \n",
    "#### Tip: the explain method\n",
    "- get quick definitions of the most common tags and labels.\n",
    "    >spacy.explain('GPE')\n",
    "    Countries, cities, states\n",
    "\n",
    "#### Loading models"
   ]
  },
  {
   "cell_type": "code",
   "execution_count": 16,
   "metadata": {},
   "outputs": [
    {
     "name": "stdout",
     "output_type": "stream",
     "text": [
      "It’s official: Apple is the first U.S. public company to reach a $1 trillion market value\n"
     ]
    }
   ],
   "source": [
    "import spacy\n",
    "# Load the 'en_core_web_sm' model – spaCy is already imported\n",
    "nlp = spacy.load('en_core_web_sm')\n",
    "\n",
    "text = \"It’s official: Apple is the first U.S. public company to reach a $1 trillion market value\"\n",
    "\n",
    "# Process the text\n",
    "doc = nlp(text)\n",
    "\n",
    "# Print the document text\n",
    "print(doc.text)"
   ]
  },
  {
   "cell_type": "markdown",
   "metadata": {},
   "source": [
    "#### Predicting linguistic annotations\n",
    "- part-of-speech tag | dependency label"
   ]
  },
  {
   "cell_type": "code",
   "execution_count": 17,
   "metadata": {},
   "outputs": [
    {
     "name": "stdout",
     "output_type": "stream",
     "text": [
      "It          PRON      nsubj     \n",
      "’s          VERB      punct     \n",
      "official    NOUN      ROOT      \n",
      ":           PUNCT     punct     \n",
      "Apple       PROPN     nsubj     \n",
      "is          AUX       ROOT      \n",
      "the         DET       det       \n",
      "first       ADJ       amod      \n",
      "U.S.        PROPN     nmod      \n",
      "public      ADJ       amod      \n",
      "company     NOUN      attr      \n",
      "to          PART      aux       \n",
      "reach       VERB      relcl     \n",
      "a           DET       det       \n",
      "$           SYM       quantmod  \n",
      "1           NUM       compound  \n",
      "trillion    NUM       nummod    \n",
      "market      NOUN      compound  \n",
      "value       NOUN      dobj      \n"
     ]
    }
   ],
   "source": [
    "for token in doc:\n",
    "    # Get the token text, part-of-speech tag and dependency label\n",
    "    token_text = token.text\n",
    "    token_pos = token.pos_\n",
    "    token_dep = token.dep_\n",
    "    # This is for formatting only\n",
    "    print('{:<12}{:<10}{:<10}'.format(token_text, token_pos, token_dep))"
   ]
  },
  {
   "cell_type": "markdown",
   "metadata": {},
   "source": [
    "- Name entity"
   ]
  },
  {
   "cell_type": "code",
   "execution_count": 18,
   "metadata": {},
   "outputs": [
    {
     "name": "stdout",
     "output_type": "stream",
     "text": [
      "Apple ORG\n",
      "first ORDINAL\n",
      "U.S. GPE\n",
      "$1 trillion MONEY\n"
     ]
    }
   ],
   "source": [
    "# Iterate over the predicted entities\n",
    "for ent in doc.ents:\n",
    "    # print the entity text and its label\n",
    "    print(ent.text, ent.label_)"
   ]
  },
  {
   "cell_type": "markdown",
   "metadata": {},
   "source": [
    "#### Predicting named entities in context\n",
    "Models are statistical and not always right. Whether their predictions are correct depends on the training data and the text that has been processing"
   ]
  },
  {
   "cell_type": "code",
   "execution_count": 20,
   "metadata": {},
   "outputs": [
    {
     "name": "stdout",
     "output_type": "stream",
     "text": [
      "Apple ORG\n",
      "Missing entity: iPhone X\n"
     ]
    }
   ],
   "source": [
    "text = \"New iPhone X release date leaked as Apple reveals pre-orders by mistake\"\n",
    "\n",
    "# Process the text\n",
    "doc = nlp(text)\n",
    "\n",
    "# Iterate over the entities\n",
    "for ent in doc.ents:\n",
    "    # print the entity text and label\n",
    "    print(ent.text, ent.label_)\n",
    "    \n",
    "# Get the span for \"iPhone X\"\n",
    "iphone_x = doc[1:3]\n",
    "\n",
    "# Print the span text\n",
    "print('Missing entity:', iphone_x.text)"
   ]
  },
  {
   "cell_type": "markdown",
   "metadata": {},
   "source": [
    "#### <center> Rule-based Matching\n",
    "- Lets you write rules to find words and phrases in text\n",
    "\n",
    "#### Why not just regular expressions?\n",
    "- Match on Doc objects, not just strings\n",
    "- Match on tokens and token attributes\n",
    "- Use the model's predictions\n",
    "    - Example: duck (verb)  vs \"duck\" (noun)\n",
    "\n",
    "#### Match patterns\n",
    "- List of dictionaries, one per token\n",
    "- Match exact token texts\n",
    "> [{'ORTH': 'iPhone'}, {'ORTH':'X'}]    \n",
    "- Match lexical attributes. Example: looking for tokens whose lowercase forms equal \"iphone\" and \"x\"\n",
    "> [{'LOWER': 'iphone'}, {'LOWER':'x'}]    \n",
    "- Match any token attributes\n",
    "> [{'LEMMA': 'buy'}, {'POS':'NOUN'}] \n",
    "    \n",
    "    > OUTPUT: buying milk, bought flowers\n",
    "    \n",
    "#### Using Matcher example code: \n",
    "- matcher.add()\n",
    "    - first argument: unique ID to identify which pattern was matched\n",
    "    - second arg: optional callback.\n",
    "    - third arg: the pattern\n",
    "- that function return a tuple\n",
    "    - match_id: hash value of the pattern name\n",
    "    - start: star index of matched span\n",
    "    - end: end index of matched span\n",
    "    "
   ]
  },
  {
   "cell_type": "code",
   "execution_count": 22,
   "metadata": {},
   "outputs": [
    {
     "name": "stdout",
     "output_type": "stream",
     "text": [
      "Matches: ['iPhone X']\n"
     ]
    }
   ],
   "source": [
    "# Import the Matcher and initialize it with the shared vocabulary\n",
    "from spacy.matcher import Matcher\n",
    "matcher = Matcher(nlp.vocab)\n",
    "\n",
    "# Create a pattern matching two tokens: \"iPhone\" and \"X\"\n",
    "pattern = [{'TEXT': 'iPhone'}, {'TEXT': 'X'}]\n",
    "\n",
    "# Add the pattern to the matcher\n",
    "matcher.add('IPHONE_X_PATTERN', None, pattern)\n",
    "\n",
    "# Use the matcher on the doc\n",
    "matches = matcher(doc)\n",
    "print('Matches:', [doc[start:end].text for match_id, start, end in matches])"
   ]
  },
  {
   "cell_type": "markdown",
   "metadata": {},
   "source": [
    "#### Matching lexical attributes\n",
    "- complex pattern using lexical attributes"
   ]
  },
  {
   "cell_type": "markdown",
   "metadata": {},
   "source": [
    "#### Matching other token attributes"
   ]
  },
  {
   "cell_type": "code",
   "execution_count": 24,
   "metadata": {},
   "outputs": [
    {
     "name": "stdout",
     "output_type": "stream",
     "text": [
      "Total matches found: 3\n",
      "Match found: iOS 7\n",
      "Match found: iOS 11\n",
      "Match found: iOS 10\n"
     ]
    }
   ],
   "source": [
    "## Write one pattern that only matches mentions of the full iOS versions\n",
    "##########################################################################\n",
    "doc = nlp(\"After making the iOS update you won't notice a radical system-wide redesign: nothing like the aesthetic upheaval we got with iOS 7. Most of iOS 11's furniture remains the same as in iOS 10. But you will discover some tweaks once you delve a little deeper.\")\n",
    "\n",
    "# Write a pattern for full iOS versions (\"iOS 7\", \"iOS 11\", \"iOS 10\")\n",
    "pattern = [{'TEXT': 'iOS'}, {'IS_DIGIT': True}]\n",
    "\n",
    "# Add the pattern to the matcher and apply the matcher to the doc\n",
    "matcher.add('IOS_VERSION_PATTERN', None, pattern)\n",
    "matches = matcher(doc)\n",
    "print('Total matches found:', len(matches))\n",
    "\n",
    "# Iterate over the matches and print the span text\n",
    "for match_id, start, end in matches:\n",
    "    print('Match found:', doc[start:end].text)"
   ]
  },
  {
   "cell_type": "code",
   "execution_count": 25,
   "metadata": {},
   "outputs": [
    {
     "name": "stdout",
     "output_type": "stream",
     "text": [
      "Total matches found: 2\n",
      "Match found: downloaded Fortnite\n",
      "Match found: downloading Minecraft\n"
     ]
    }
   ],
   "source": [
    "## Write one pattern that only matches forms of \"download\" (tokens with the lemma \"download\"), \n",
    "#followed by a token with the part-of-speech tag 'PROPN' (proper noun).\n",
    "##########################################################################\n",
    "\n",
    "doc = nlp(\"i downloaded Fortnite on my laptop and can't open the game at all. Help? so when I was downloading Minecraft, I got the Windows version where it is the '.zip' folder and I used the default program to unpack it... do I also need to download Winzip?\")\n",
    "\n",
    "# Write a pattern that matches a form of \"download\" plus proper noun\n",
    "pattern = [{'LEMMA': 'download'}, {'POS': 'PROPN'}]\n",
    "\n",
    "# Add the pattern to the matcher and apply the matcher to the doc\n",
    "matcher.add('DOWNLOAD_THINGS_PATTERN', None, pattern)\n",
    "matches = matcher(doc)\n",
    "print('Total matches found:', len(matches))\n",
    "\n",
    "# Iterate over the matches and print the span text\n",
    "for match_id, start, end in matches:\n",
    "    print('Match found:', doc[start:end].text)"
   ]
  },
  {
   "cell_type": "markdown",
   "metadata": {},
   "source": [
    "#### Using operator and quantifiers\n",
    "- operators can make patterns a lot more powerful, but they also add more complexity\n",
    "\n",
    "<img src=\"datasets/imgs/operators.png\" width=\"400\" height=\"400\">    "
   ]
  },
  {
   "cell_type": "code",
   "execution_count": 26,
   "metadata": {},
   "outputs": [
    {
     "name": "stdout",
     "output_type": "stream",
     "text": [
      "Total matches found: 5\n",
      "Match found: beautiful design\n",
      "Match found: smart search\n",
      "Match found: automatic labels\n",
      "Match found: optional voice\n",
      "Match found: optional voice responses\n"
     ]
    }
   ],
   "source": [
    "## Write one pattern that matches adjectives ('ADJ') followed by one or two 'NOUN's (one noun and one optional noun).\n",
    "##########################################################################\n",
    "\n",
    "doc = nlp(\"Features of the app include a beautiful design, smart search, automatic labels and optional voice responses.\")\n",
    "\n",
    "# Write a pattern for adjective plus one or two nouns\n",
    "pattern = [{'POS': 'ADJ'}, {'POS': 'NOUN'}, {'POS': 'NOUN', 'OP': '?'}]\n",
    "\n",
    "# Add the pattern to the matcher and apply the matcher to the doc\n",
    "matcher.add('ADJ_NOUN_PATTERN', None, pattern)\n",
    "matches = matcher(doc)\n",
    "print('Total matches found:', len(matches))\n",
    "\n",
    "# Iterate over the matches and print the span text\n",
    "for match_id, start, end in matches:\n",
    "    print('Match found:', doc[start:end].text)"
   ]
  }
 ],
 "metadata": {
  "kernelspec": {
   "display_name": "ML_text",
   "language": "python",
   "name": "ml_text"
  },
  "language_info": {
   "codemirror_mode": {
    "name": "ipython",
    "version": 3
   },
   "file_extension": ".py",
   "mimetype": "text/x-python",
   "name": "python",
   "nbconvert_exporter": "python",
   "pygments_lexer": "ipython3",
   "version": "3.7.7"
  }
 },
 "nbformat": 4,
 "nbformat_minor": 4
}
