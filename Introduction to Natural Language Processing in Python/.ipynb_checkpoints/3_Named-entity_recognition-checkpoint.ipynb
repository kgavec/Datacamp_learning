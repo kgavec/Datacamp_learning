{
 "cells": [
  {
   "cell_type": "markdown",
   "metadata": {},
   "source": [
    "# <center> Named-entity recognition"
   ]
  },
  {
   "cell_type": "markdown",
   "metadata": {},
   "source": [
    "#### What is Named Entity Recognition (NER)?\n",
    "- NLP task to identify important named entities in the text such as :\n",
    "    - People, places, organizations\n",
    "    - Dates, states, works of art\n",
    "    - ... and other categories!\n",
    "- Can be used alongside topic identification\n",
    "    - ... or on its own!\n",
    "- Or answer basic natural language understanding questions such as:\n",
    "    - Who? What? When? Where?\n",
    "\n",
    "- NER can solve problems like fact extraction\n",
    "\n",
    "NER example:\n",
    "\n",
    "Text has been highlighted for different types of named entities that were found using the Standford NER library\n",
    "\n",
    "<img src=\"https://researchkb.files.wordpress.com/2014/02/ner.png\" width=\"800\" height=\"400\">    \n",
    "\n",
    "\n",
    "#### nltk and the Stanford CoreNLP Library\n",
    "The Stanford CoreNLP library:\n",
    "- Integrated into Python via nltk\n",
    "- Java based\n",
    "- Support for NER as well as coreference and dependency trees\n",
    "\n",
    "Example using NLTK:"
   ]
  },
  {
   "cell_type": "code",
   "execution_count": 1,
   "metadata": {},
   "outputs": [
    {
     "name": "stdout",
     "output_type": "stream",
     "text": [
      "['In', 'New', 'York', ',', 'I', 'like', 'to', 'ride', 'the', 'Metro', 'to', 'visit', 'MOMA', 'and', 'some', 'restaurants', 'rated', 'well', 'by', 'Ruth', 'Reichl', '.']\n"
     ]
    }
   ],
   "source": [
    "import nltk\n",
    "\n",
    "sentence = '''In New York, I like to ride the Metro to visit MOMA \n",
    "                      and some restaurants rated well by Ruth Reichl.'''\n",
    "\n",
    "##preprocess - tokenization\n",
    "tokenized_sent = nltk.word_tokenize(sentence)\n",
    "print(tokenized_sent)"
   ]
  },
  {
   "cell_type": "code",
   "execution_count": 2,
   "metadata": {},
   "outputs": [],
   "source": [
    "##DOWNLOAD if first time using tagger\n",
    "#nltk.download('averaged_perceptron_tagger')"
   ]
  },
  {
   "cell_type": "code",
   "execution_count": 3,
   "metadata": {},
   "outputs": [
    {
     "name": "stdout",
     "output_type": "stream",
     "text": [
      "This add tags for proper nouns, pronouns, adjective, verbs and other part \n",
      "of speech that NLTK uses based on an english Grammar:\n"
     ]
    },
    {
     "data": {
      "text/plain": [
       "[('In', 'IN'), ('New', 'NNP'), ('York', 'NNP')]"
      ]
     },
     "execution_count": 3,
     "metadata": {},
     "output_type": "execute_result"
    }
   ],
   "source": [
    "##Tag sentences for parts of speech\n",
    "tagged_sent = nltk.pos_tag(tokenized_sent)\n",
    "print('This add tags for proper nouns, pronouns, adjective, verbs and other part \\nof speech that NLTK uses based on an english Grammar:')\n",
    "##npp IS THE TAG FOR A PROPER NOUN SINGULAR\n",
    "tagged_sent[:3]"
   ]
  },
  {
   "cell_type": "code",
   "execution_count": 4,
   "metadata": {},
   "outputs": [],
   "source": [
    "##DOWNLOAD if first time using CHUNKER\n",
    "#nltk.download('maxent_ne_chunker')\n",
    "#nltk.download('words')"
   ]
  },
  {
   "cell_type": "code",
   "execution_count": 5,
   "metadata": {},
   "outputs": [
    {
     "name": "stdout",
     "output_type": "stream",
     "text": [
      "This tree has leaves and subtrees that represent more complex grammar\n",
      "See the identified entities like GPE, ORGANIZATION and PERSON\n",
      "(S\n",
      "  In/IN\n",
      "  (GPE New/NNP York/NNP)\n",
      "  ,/,\n",
      "  I/PRP\n",
      "  like/VBP\n",
      "  to/TO\n",
      "  ride/VB\n",
      "  the/DT\n",
      "  (ORGANIZATION Metro/NNP)\n",
      "  to/TO\n",
      "  visit/VB\n",
      "  (ORGANIZATION MOMA/NNP)\n",
      "  and/CC\n",
      "  some/DT\n",
      "  restaurants/NNS\n",
      "  rated/VBN\n",
      "  well/RB\n",
      "  by/IN\n",
      "  (PERSON Ruth/NNP Reichl/NNP)\n",
      "  ./.)\n"
     ]
    }
   ],
   "source": [
    "##PASS this tagged sentence into the ne_chunk (name entity chunk) function\n",
    "#this returns the sentence as a tree\n",
    "print('This tree has leaves and subtrees that represent more complex grammar')\n",
    "print('See the identified entities like GPE, ORGANIZATION and PERSON')\n",
    "print(nltk.ne_chunk(tagged_sent))"
   ]
  },
  {
   "cell_type": "markdown",
   "metadata": {},
   "source": [
    "#### NER with NLTK example"
   ]
  },
  {
   "cell_type": "code",
   "execution_count": 6,
   "metadata": {},
   "outputs": [
    {
     "data": {
      "text/plain": [
       "'The taxi-hailing company Uber brings into very sharp focus the question of whether corporations can be said to have a moral character. If any human being were to behave with the single-minded and ruthless greed of the company, we would consider them sociopathic. Uber wanted to know as much as possible about the people who use its service, and those who don’t. It has an arrangement with unroll.me, a company which offered a free service for unsubscribing from junk mail, to buy the contacts unroll.'"
      ]
     },
     "execution_count": 6,
     "metadata": {},
     "output_type": "execute_result"
    }
   ],
   "source": [
    "##using a article which was copy on a txt file\n",
    "with open('datasets/article_NER.txt','r',encoding='UTF-8') as file:\n",
    "    article=file.read()\n",
    "article[:500]"
   ]
  },
  {
   "cell_type": "code",
   "execution_count": 7,
   "metadata": {},
   "outputs": [
    {
     "data": {
      "text/plain": [
       "['The taxi-hailing company Uber brings into very sharp focus the question of whether corporations can be said to have a moral character.',\n",
       " 'If any human being were to behave with the single-minded and ruthless greed of the company, we would consider them sociopathic.',\n",
       " 'Uber wanted to know as much as possible about the people who use its service, and those who don’t.']"
      ]
     },
     "execution_count": 7,
     "metadata": {},
     "output_type": "execute_result"
    }
   ],
   "source": [
    "# Tokenize the article into sentences: sentences\n",
    "sentences = nltk.sent_tokenize(article)\n",
    "sentences[:3]"
   ]
  },
  {
   "cell_type": "code",
   "execution_count": 8,
   "metadata": {},
   "outputs": [
    {
     "name": "stdout",
     "output_type": "stream",
     "text": [
      "['The', 'taxi-hailing', 'company', 'Uber', 'brings', 'into', 'very', 'sharp', 'focus', 'the', 'question', 'of', 'whether', 'corporations', 'can', 'be', 'said', 'to', 'have', 'a', 'moral', 'character', '.']\n"
     ]
    }
   ],
   "source": [
    "# Tokenize each sentence into words: token_sentences\n",
    "token_sentences = [nltk.word_tokenize(sent) for sent in sentences]\n",
    "print(token_sentences[0])"
   ]
  },
  {
   "cell_type": "code",
   "execution_count": 9,
   "metadata": {},
   "outputs": [
    {
     "name": "stdout",
     "output_type": "stream",
     "text": [
      "[('The', 'DT'), ('taxi-hailing', 'JJ'), ('company', 'NN'), ('Uber', 'NNP'), ('brings', 'VBZ'), ('into', 'IN'), ('very', 'RB'), ('sharp', 'JJ'), ('focus', 'VB'), ('the', 'DT'), ('question', 'NN'), ('of', 'IN'), ('whether', 'IN'), ('corporations', 'NNS'), ('can', 'MD'), ('be', 'VB'), ('said', 'VBD'), ('to', 'TO'), ('have', 'VB'), ('a', 'DT'), ('moral', 'JJ'), ('character', 'NN'), ('.', '.')]\n"
     ]
    }
   ],
   "source": [
    "# Tag each tokenized sentence into parts of speech: pos_sentences\n",
    "pos_sentences = [nltk.pos_tag(sent) for sent in token_sentences] \n",
    "print(pos_sentences[0])"
   ]
  },
  {
   "cell_type": "markdown",
   "metadata": {},
   "source": [
    "Note:\n",
    "- The hasattr() function returns True if the specified object has the specified attribute, otherwise False"
   ]
  },
  {
   "cell_type": "code",
   "execution_count": 10,
   "metadata": {},
   "outputs": [
    {
     "name": "stdout",
     "output_type": "stream",
     "text": [
      "(NE Uber/NNP)\n",
      "(NE Beyond/NN)\n",
      "(NE Apple/NNP)\n",
      "(NE Uber/NNP)\n",
      "(NE Uber/NNP)\n",
      "(NE Travis/NNP Kalanick/NNP)\n",
      "(NE Tim/NNP Cook/NNP)\n",
      "(NE Apple/NNP)\n",
      "(NE Silicon/NNP Valley/NNP)\n",
      "(NE CEO/NNP)\n",
      "(NE Yahoo/NNP)\n",
      "(NE Marissa/NNP Mayer/NNP)\n"
     ]
    }
   ],
   "source": [
    "# Create the named entity chunks: chunked_sentences\n",
    "chunked_sentences = nltk.ne_chunk_sents(pos_sentences, binary=True)\n",
    "# Test for stems of the tree with 'NE' tags\n",
    "# test whether it is a named-entity chunk by testing if it has the attribute label, and if the chunk.label() is equal to \"NE\"\n",
    "for sent in chunked_sentences:\n",
    "    for chunk in sent:\n",
    "        if hasattr(chunk, \"label\") and chunk.label() == \"NE\":\n",
    "            print(chunk)"
   ]
  },
  {
   "cell_type": "markdown",
   "metadata": {},
   "source": [
    "#### CHARTING example"
   ]
  },
  {
   "cell_type": "code",
   "execution_count": 11,
   "metadata": {},
   "outputs": [],
   "source": [
    "import collections\n",
    "import matplotlib.pyplot as plt"
   ]
  },
  {
   "cell_type": "code",
   "execution_count": 12,
   "metadata": {},
   "outputs": [
    {
     "data": {
      "text/plain": [
       "defaultdict(int, {'GPE': 2, 'PERSON': 7, 'ORGANIZATION': 1})"
      ]
     },
     "execution_count": 12,
     "metadata": {},
     "output_type": "execute_result"
    }
   ],
   "source": [
    "# Create the defaultdict: ner_categories\n",
    "ner_categories = collections.defaultdict(int)\n",
    "\n",
    "# Create the named entity chunks: chunked_sentences\n",
    "chunked_sentences = nltk.ne_chunk_sents(pos_sentences, binary=False)\n",
    "\n",
    "# Create the nested for loop\n",
    "#Fill up the dictionary with values for each of the keys\n",
    "for sent in chunked_sentences:\n",
    "    for chunk in sent:\n",
    "        ##Just the tokens that have label\n",
    "        if hasattr(chunk, 'label'):\n",
    "            ner_categories[chunk.label()] += 1 \n",
    "ner_categories"
   ]
  },
  {
   "cell_type": "code",
   "execution_count": 13,
   "metadata": {},
   "outputs": [
    {
     "data": {
      "text/plain": [
       "['GPE', 'PERSON', 'ORGANIZATION']"
      ]
     },
     "execution_count": 13,
     "metadata": {},
     "output_type": "execute_result"
    }
   ],
   "source": [
    "# Create a list from the dictionary keys for the chart labels: labels\n",
    "labels = list(ner_categories.keys())\n",
    "labels"
   ]
  },
  {
   "cell_type": "code",
   "execution_count": 14,
   "metadata": {},
   "outputs": [
    {
     "data": {
      "image/png": "[encoded data removed]",
      "text/plain": [
       "<Figure size 432x288 with 1 Axes>"
      ]
     },
     "metadata": {},
     "output_type": "display_data"
    }
   ],
   "source": [
    "# Create a list of the values: values\n",
    "values = [ner_categories.get(v) for v in labels]\n",
    "\n",
    "# Create the pie chart\n",
    "plt.pie(values, labels=labels, autopct='%1.1f%%', startangle=140)\n",
    "\n",
    "# Display the chart\n",
    "plt.show()"
   ]
  },
  {
   "cell_type": "markdown",
   "metadata": {},
   "source": [
    "When using the Stanford library with NLTK, what is needed to get started?\n",
    "- NLTK, the Stanford Java Libraries and some environment variables to help with integration."
   ]
  },
  {
   "cell_type": "markdown",
   "metadata": {},
   "source": [
    "# <center> Introduction to SpaCy\n",
    "#### What is SpaCy?\n",
    "- NLP library similar to gensim, with different implementations\n",
    "- Focus on creating NLP pipelines to generate models and corpora\n",
    "- Open-source, with extra libraries and tools\n",
    "    - Displacy\n",
    "\n",
    "#### Displacy entity recognition visualizer example\n",
    "\n",
    "<img src=\"https://i2.wp.com/neptune.ai/wp-content/uploads/output8.png\" width=\"800\" height=\"400\">   \n",
    "    \n",
    "\n",
    "    \n",
    "#### SpaCy NER\n",
    "\n",
    "<img src=\"https://miro.medium.com/max/1400/1*qQggIPMugLcy-ndJ8X_aAA.png\" width=\"800\" height=\"400\">    \n",
    "\n",
    "Example:\n",
    "    \n",
    "Install spacy on conda\n",
    ">conda install -c conda-forge spacy\n",
    "    \n",
    "Download english model\n",
    ">python -m spacy download en_core_web_sm"
   ]
  },
  {
   "cell_type": "code",
   "execution_count": 15,
   "metadata": {},
   "outputs": [],
   "source": [
    "import spacy"
   ]
  },
  {
   "cell_type": "code",
   "execution_count": 16,
   "metadata": {},
   "outputs": [
    {
     "data": {
      "text/plain": [
       "<spacy.pipeline.pipes.EntityRecognizer at 0x20222a490a8>"
      ]
     },
     "execution_count": 16,
     "metadata": {},
     "output_type": "execute_result"
    }
   ],
   "source": [
    "##load train vectors into object nlp (works similar to Gensim dictionary and corpus)\n",
    "nlp = spacy.load('en_core_web_sm')\n",
    "##Entity recognizer object for pipeline module\n",
    "nlp.entity"
   ]
  },
  {
   "cell_type": "code",
   "execution_count": 17,
   "metadata": {},
   "outputs": [
    {
     "data": {
      "text/plain": [
       "(Berlin, Germany, Angela Merkel)"
      ]
     },
     "execution_count": 17,
     "metadata": {},
     "output_type": "execute_result"
    }
   ],
   "source": [
    "## load new document by passing string in new var\n",
    "doc = nlp(\"\"\"Berlin is the capital of Germany; \n",
    "                  and the residence of Chancellor Angela Merkel.\"\"\")\n",
    "##when the document is loaded, the named entities are stored as a document attribute called ents\n",
    "doc.ents ##spacy identify and tag the three main entities in the sentence"
   ]
  },
  {
   "cell_type": "code",
   "execution_count": 18,
   "metadata": {},
   "outputs": [
    {
     "name": "stdout",
     "output_type": "stream",
     "text": [
      "Berlin GPE\n"
     ]
    }
   ],
   "source": [
    "##Investigate the labels of each entity using indexing\n",
    "print(doc.ents[0], doc.ents[0].label_)"
   ]
  },
  {
   "cell_type": "markdown",
   "metadata": {},
   "source": [
    "#### Why use SpaCy for NER?\n",
    "- Easy pipeline creation\n",
    "- Different entity types compared to nltk\n",
    "- Informal language corpora\n",
    "    - Easily find entities in Tweets and chat messages\n",
    "- Quickly growing!"
   ]
  },
  {
   "cell_type": "code",
   "execution_count": 19,
   "metadata": {},
   "outputs": [
    {
     "data": {
      "text/plain": [
       "'The taxi-hailing company Uber brings into very sharp focus the question of whether corporations can be said to have a moral character. If any human being were to behave with the single-minded and ruthless greed of the company, we would consider them sociopathic. Uber wanted to know as much as possible about the people who use its service, and those who don’t. It has an arrangement with unroll.me, a company which offered a free service for unsubscribing from junk mail, to buy the contacts unroll.'"
      ]
     },
     "execution_count": 19,
     "metadata": {},
     "output_type": "execute_result"
    }
   ],
   "source": [
    "##using same article as NLTK example\n",
    "article[:500]"
   ]
  },
  {
   "cell_type": "code",
   "execution_count": 20,
   "metadata": {},
   "outputs": [
    {
     "name": "stdout",
     "output_type": "stream",
     "text": [
      "PERSON Uber\n",
      "PERSON Uber\n",
      "ORG Apple\n",
      "PERSON Uber\n",
      "PERSON Uber\n",
      "PERSON Uber\n",
      "PERSON Uber\n",
      "PERSON Travis Kalanick\n",
      "GPE Uber\n",
      "PERSON Tim Cook\n",
      "ORG Apple\n",
      "CARDINAL Millions\n",
      "GPE Uber\n",
      "LOC Silicon Valley\n",
      "ORG Yahoo\n",
      "PERSON Marissa Mayer\n",
      "MONEY 186\n"
     ]
    }
   ],
   "source": [
    "# Instantiate the English model: nlp\n",
    "nlp = spacy.load('en_core_web_sm',tagger=False, parser=False, matcher=False) ##params for processing quicklier\n",
    "\n",
    "# Create a new document: doc\n",
    "doc = nlp(article)\n",
    "\n",
    "# Print all of the found entities and their labels\n",
    "for ent in doc.ents:\n",
    "    print(ent.label_, ent.text)"
   ]
  },
  {
   "cell_type": "markdown",
   "metadata": {},
   "source": [
    "#### spaCy NER Categories\n",
    "Which are the extra categories that spacy uses compared to nltk in its named-entity recognition?\n",
    "- NORP, CARDINAL, MONEY, WORKOFART, LANGUAGE, EVENT"
   ]
  },
  {
   "cell_type": "markdown",
   "metadata": {},
   "source": [
    "# <center> Multilingual NER with polyglot\n",
    "#### What is polyglot?\n",
    "- NLP library which uses word vectors\n",
    "- Why polyglot?\n",
    "    - Vectors for many different languages (More than 130!)\n",
    "    - Can translate between languages\n",
    "  \n",
    "IMPORTANT: Need appropiate vector downloaded and install before apply NER\n",
    "\n",
    "    \n",
    "Spanish NER with polyglot example:"
   ]
  },
  {
   "cell_type": "code",
   "execution_count": 21,
   "metadata": {},
   "outputs": [],
   "source": [
    "##Cannot run the code locally or collab because of the library installation"
   ]
  },
  {
   "cell_type": "markdown",
   "metadata": {},
   "source": [
    ">from polyglot.text import Text\n",
    "\n",
    ">text = \"\"\"El presidente de la Generalitat de Cataluña,\n",
    "                  Carles Puigdemont, ha afirmado hoy a la alcaldesa \n",
    "                  de Madrid, Manuela Carmena, que en su etapa de \n",
    "                  alcalde de Girona (de julio de 2011 a enero de 2016) \n",
    "                  hizo una gran promoción de Madrid.\"\"\"\n",
    "\n",
    ">ptext = Text(text)\n",
    "\n",
    ">ptext.entities\n",
    "\n",
    ">OUTPUT:[I-ORG(['Generalitat', 'de']),\n",
    " I-LOC(['Generalitat', 'de', 'Cataluña']),\n",
    " I-PER(['Carles', 'Puigdemont']),\n",
    " I-LOC(['Madrid']),\n",
    " I-PER(['Manuela', 'Carmena']),\n",
    " I-LOC(['Girona']),\n",
    " I-LOC(['Madrid'])]"
   ]
  },
  {
   "cell_type": "code",
   "execution_count": 22,
   "metadata": {},
   "outputs": [
    {
     "data": {
      "text/plain": [
       "\"édition abonné\\n\\n\\nDans une tribune au « Monde », l’universitaire Charles Cuvelliez estime que le fantasme d’un remplacement de l’homme par l’algorithme et le robot repose sur un malentendu.\\n\\n\\nLe Monde | 10.05.2017 à 06h44 • Mis à jour le 10.05.2017 à 09h47 | Par Charles Cuvelliez (Professeur à l’Ecole polytechnique de l'université libre de Bruxelles)\\n\\n\\nTRIBUNE. L’usage morbide, par certains, de Facebook Live a amené son fondateur à annoncer précipitamment le recrutement de 3 000 modérateurs suppl\""
      ]
     },
     "execution_count": 22,
     "metadata": {},
     "output_type": "execute_result"
    }
   ],
   "source": [
    "##using a French blog article which was copy on a txt file\n",
    "with open('datasets/French_article.txt','r',encoding='UTF-8') as file:\n",
    "    FRarticle=file.read()\n",
    "FRarticle[:500]"
   ]
  },
  {
   "cell_type": "code",
   "execution_count": 23,
   "metadata": {},
   "outputs": [],
   "source": [
    "# from polyglot.text import Text\n",
    "\n",
    "# # Create a new text object using Polyglot's Text class: txt\n",
    "# txt = Text(FRarticle)\n",
    "\n",
    "# # Print each of the entities found\n",
    "# for ent in txt.entities:\n",
    "#     print(ent)\n",
    "    \n",
    "# # Print the type of ent\n",
    "# print(type(ent))"
   ]
  },
  {
   "cell_type": "code",
   "execution_count": 24,
   "metadata": {},
   "outputs": [],
   "source": [
    "# # Create the list of tuples: entities\n",
    "# entities = [(ent.tag, ' '.join(ent)) for ent in txt.entities]\n",
    "\n",
    "# # Print entities\n",
    "# print(entities)"
   ]
  },
  {
   "cell_type": "code",
   "execution_count": 25,
   "metadata": {},
   "outputs": [
    {
     "data": {
      "text/plain": [
       "'Lina del Castillo es profesora en el Instituto de Estudios Latinoamericanos Teresa Lozano Long (LLILAS) y el Departamento de Historia de la Universidad de Texas en Austin. Ella será la moderadora del panel “Los Mundos Políticos de Gabriel García Márquez” este viernes, Oct. 30, en el simposio Gabriel García Márquez: Vida y Legado.\\n\\n\\nLIna del Castillo\\n\\n\\nActualmente, sus investigaciones abarcan la intersección de cartografía, disputas a las demandas de tierra y recursos, y la formación del n...el t'"
      ]
     },
     "execution_count": 25,
     "metadata": {},
     "output_type": "execute_result"
    }
   ],
   "source": [
    "##using a Spanish blog article which was copy on a txt file\n",
    "with open('datasets/Spanish_article.txt','r',encoding='UTF-8') as file:\n",
    "    Sarticle=file.read()\n",
    "Sarticle[:500]"
   ]
  },
  {
   "cell_type": "code",
   "execution_count": 26,
   "metadata": {},
   "outputs": [],
   "source": [
    "# # Initialize the count variable: count\n",
    "# count = 0\n",
    "\n",
    "# # Iterate over all the entities\n",
    "# for ent in Sarticle.entities:\n",
    "#     # Check whether the entity contains 'Márquez' or 'Gabo'\n",
    "#     if 'Márquez' in ent or 'Gabo' in ent:\n",
    "#         # Increment count\n",
    "#         count+=1\n",
    "\n",
    "# # Print count\n",
    "# print(count)\n",
    "\n",
    "# # Calculate the percentage of entities that refer to \"Gabo\": percentage\n",
    "# percentage = count / len(txt.entities)\n",
    "# print(percentage)"
   ]
  }
 ],
 "metadata": {
  "kernelspec": {
   "display_name": "ML_text",
   "language": "python",
   "name": "ml_text"
  },
  "language_info": {
   "codemirror_mode": {
    "name": "ipython",
    "version": 3
   },
   "file_extension": ".py",
   "mimetype": "text/x-python",
   "name": "python",
   "nbconvert_exporter": "python",
   "pygments_lexer": "ipython3",
   "version": "3.7.7"
  }
 },
 "nbformat": 4,
 "nbformat_minor": 4
}
